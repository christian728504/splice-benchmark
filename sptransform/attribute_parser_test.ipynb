{
 "cells": [
  {
   "cell_type": "code",
   "execution_count": 3,
   "id": "2a5d29e7-24e2-44f7-b085-d15d2405be51",
   "metadata": {
    "execution": {
     "iopub.execute_input": "2025-01-06T16:43:33.723228Z",
     "iopub.status.busy": "2025-01-06T16:43:33.722918Z",
     "iopub.status.idle": "2025-01-06T16:43:33.727194Z",
     "shell.execute_reply": "2025-01-06T16:43:33.726648Z",
     "shell.execute_reply.started": "2025-01-06T16:43:33.723207Z"
    }
   },
   "outputs": [
    {
     "name": "stdout",
     "output_type": "stream",
     "text": [
      "{'gene_id': 'ENSG00000223972.6', 'gene_type': 'transcribed_unprocessed_pseudogene', 'gene_name': 'DDX11L1', 'level': '2', 'hgnc_id': 'HGNC:37102', 'havana_gene': 'OTTHUMG00000000961.2'}\n"
     ]
    }
   ],
   "source": [
    "attributes = 'gene_id \"ENSG00000223972.6\"; gene_type \"transcribed_unprocessed_pseudogene\"; gene_name \"DDX11L1\"; level 2; hgnc_id \"HGNC:37102\"; havana_gene \"OTTHUMG00000000961.2\";'\n",
    "\n",
    "attr_dict = {}\n",
    "# Split by semicolon and strip whitespace\n",
    "attrs = [x.strip() for x in attributes.split(';') if x.strip()]\n",
    "\n",
    "for attr in attrs:\n",
    "    # Split on first space and remove quotes\n",
    "    parts = attr.split(' ', 1)\n",
    "    if len(parts) == 2:\n",
    "        key = parts[0]\n",
    "        value = parts[1].strip('\"')\n",
    "        attr_dict[key] = value\n",
    "\n",
    "print(attr_dict)"
   ]
  },
  {
   "cell_type": "code",
   "execution_count": null,
   "id": "f2cfe228-6096-4f75-a1c2-af56bde69bfc",
   "metadata": {},
   "outputs": [],
   "source": []
  }
 ],
 "metadata": {
  "kernelspec": {
   "display_name": "Python 3 (ipykernel)",
   "language": "python",
   "name": "python3"
  },
  "language_info": {
   "codemirror_mode": {
    "name": "ipython",
    "version": 3
   },
   "file_extension": ".py",
   "mimetype": "text/x-python",
   "name": "python",
   "nbconvert_exporter": "python",
   "pygments_lexer": "ipython3",
   "version": "3.10.12"
  }
 },
 "nbformat": 4,
 "nbformat_minor": 5
}
