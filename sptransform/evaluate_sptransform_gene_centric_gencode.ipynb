{
 "cells": [
  {
   "cell_type": "code",
   "execution_count": 1,
   "id": "ed9d34ed-03de-44a8-96a8-5d444f19438d",
   "metadata": {
    "execution": {
     "iopub.execute_input": "2025-01-08T03:04:57.298202Z",
     "iopub.status.busy": "2025-01-08T03:04:57.297993Z",
     "iopub.status.idle": "2025-01-08T03:05:00.141170Z",
     "shell.execute_reply": "2025-01-08T03:05:00.140612Z",
     "shell.execute_reply.started": "2025-01-08T03:04:57.298184Z"
    }
   },
   "outputs": [
    {
     "name": "stderr",
     "output_type": "stream",
     "text": [
      "2025-01-07 22:04:58.158742: I tensorflow/core/util/port.cc:153] oneDNN custom operations are on. You may see slightly different numerical results due to floating-point round-off errors from different computation orders. To turn them off, set the environment variable `TF_ENABLE_ONEDNN_OPTS=0`.\n",
      "2025-01-07 22:04:58.172783: E external/local_xla/xla/stream_executor/cuda/cuda_fft.cc:477] Unable to register cuFFT factory: Attempting to register factory for plugin cuFFT when one has already been registered\n",
      "WARNING: All log messages before absl::InitializeLog() is called are written to STDERR\n",
      "E0000 00:00:1736305498.189039 1410804 cuda_dnn.cc:8310] Unable to register cuDNN factory: Attempting to register factory for plugin cuDNN when one has already been registered\n",
      "E0000 00:00:1736305498.194039 1410804 cuda_blas.cc:1418] Unable to register cuBLAS factory: Attempting to register factory for plugin cuBLAS when one has already been registered\n",
      "2025-01-07 22:04:58.211700: I tensorflow/core/platform/cpu_feature_guard.cc:210] This TensorFlow binary is optimized to use available CPU instructions in performance-critical operations.\n",
      "To enable the following instructions: AVX2 AVX512F AVX512_VNNI FMA, in other operations, rebuild TensorFlow with the appropriate compiler flags.\n"
     ]
    }
   ],
   "source": [
    "import matplotlib.pyplot as plt\n",
    "import numpy as np\n",
    "from pickle_serialize import save\n",
    "from pickle_serialize import load\n",
    "from gene_centric_gencode_evaluator import GencodeSpliceSiteEvaluator"
   ]
  },
  {
   "cell_type": "code",
   "execution_count": 2,
   "id": "8e99d8af-0dfe-4d44-8b94-83cb40cd21aa",
   "metadata": {
    "execution": {
     "iopub.execute_input": "2025-01-08T03:05:00.142218Z",
     "iopub.status.busy": "2025-01-08T03:05:00.141813Z",
     "iopub.status.idle": "2025-01-08T03:05:52.402617Z",
     "shell.execute_reply": "2025-01-08T03:05:52.401783Z",
     "shell.execute_reply.started": "2025-01-08T03:05:00.142197Z"
    },
    "scrolled": true
   },
   "outputs": [
    {
     "name": "stderr",
     "output_type": "stream",
     "text": [
      "I0000 00:00:1736305544.094732 1410804 gpu_device.cc:2022] Created device /job:localhost/replica:0/task:0/device:GPU:0 with 31134 MB memory:  -> device: 0, name: Tesla V100-SXM2-32GB, pci bus id: 0000:86:00.0, compute capability: 7.0\n",
      "WARNING:absl:No training configuration found in the save file, so the model was *not* compiled. Compile it manually.\n",
      "WARNING:absl:No training configuration found in the save file, so the model was *not* compiled. Compile it manually.\n",
      "WARNING:absl:No training configuration found in the save file, so the model was *not* compiled. Compile it manually.\n",
      "WARNING:absl:No training configuration found in the save file, so the model was *not* compiled. Compile it manually.\n",
      "WARNING:absl:No training configuration found in the save file, so the model was *not* compiled. Compile it manually.\n",
      "Processing chromosomes:   0%|          | 0/5 [00:00<?, ?it/s]\n",
      "\u001b[AWARNING: All log messages before absl::InitializeLog() is called are written to STDERR\n",
      "I0000 00:00:1736305551.749899 1411039 service.cc:148] XLA service 0x145cb0014940 initialized for platform CUDA (this does not guarantee that XLA will be used). Devices:\n",
      "I0000 00:00:1736305551.749927 1411039 service.cc:156]   StreamExecutor device (0): Tesla V100-SXM2-32GB, Compute Capability 7.0\n",
      "2025-01-07 22:05:51.811362: I tensorflow/compiler/mlir/tensorflow/utils/dump_mlir_util.cc:268] disabling MLIR crash reproducer, set env var `MLIR_CRASH_REPRODUCER_DIRECTORY` to enable.\n",
      "E0000 00:00:1736305552.058683 1411039 cuda_dnn.cc:522] Loaded runtime CuDNN library: 9.1.0 but source was compiled with: 9.3.0.  CuDNN library needs to have matching major version and equal or higher minor version. If using a binary install, upgrade your CuDNN library.  If building from sources, make sure the library loaded at runtime is compatible with the version specified during compile configuration.\n",
      "E0000 00:00:1736305552.083802 1411039 cuda_dnn.cc:522] Loaded runtime CuDNN library: 9.1.0 but source was compiled with: 9.3.0.  CuDNN library needs to have matching major version and equal or higher minor version. If using a binary install, upgrade your CuDNN library.  If building from sources, make sure the library loaded at runtime is compatible with the version specified during compile configuration.\n",
      "2025-01-07 22:05:52.095116: W tensorflow/core/framework/op_kernel.cc:1841] OP_REQUIRES failed at xla_ops.cc:577 : FAILED_PRECONDITION: DNN library initialization failed. Look at the errors above for more details.\n",
      "2025-01-07 22:05:52.095172: I tensorflow/core/framework/local_rendezvous.cc:405] Local rendezvous is aborting with status: FAILED_PRECONDITION: DNN library initialization failed. Look at the errors above for more details.\n",
      "\t [[{{node StatefulPartitionedCall}}]]\n",
      "chr1 sliding:   0%|          | 0/49791 [00:01<?, ?it/s]\n",
      "Processing chromosomes:   0%|          | 0/5 [00:01<?, ?it/s]\n"
     ]
    },
    {
     "ename": "FailedPreconditionError",
     "evalue": "Graph execution error:\n\nDetected at node StatefulPartitionedCall defined at (most recent call last):\n  File \"/usr/lib/python3.10/runpy.py\", line 196, in _run_module_as_main\n\n  File \"/usr/lib/python3.10/runpy.py\", line 86, in _run_code\n\n  File \"/opt/venv/lib/python3.10/site-packages/ipykernel_launcher.py\", line 18, in <module>\n\n  File \"/opt/venv/lib/python3.10/site-packages/traitlets/config/application.py\", line 1075, in launch_instance\n\n  File \"/opt/venv/lib/python3.10/site-packages/ipykernel/kernelapp.py\", line 739, in start\n\n  File \"/opt/venv/lib/python3.10/site-packages/tornado/platform/asyncio.py\", line 205, in start\n\n  File \"/usr/lib/python3.10/asyncio/base_events.py\", line 603, in run_forever\n\n  File \"/usr/lib/python3.10/asyncio/base_events.py\", line 1909, in _run_once\n\n  File \"/usr/lib/python3.10/asyncio/events.py\", line 80, in _run\n\n  File \"/opt/venv/lib/python3.10/site-packages/ipykernel/kernelbase.py\", line 545, in dispatch_queue\n\n  File \"/opt/venv/lib/python3.10/site-packages/ipykernel/kernelbase.py\", line 534, in process_one\n\n  File \"/opt/venv/lib/python3.10/site-packages/ipykernel/kernelbase.py\", line 437, in dispatch_shell\n\n  File \"/opt/venv/lib/python3.10/site-packages/ipykernel/ipkernel.py\", line 362, in execute_request\n\n  File \"/opt/venv/lib/python3.10/site-packages/ipykernel/kernelbase.py\", line 778, in execute_request\n\n  File \"/opt/venv/lib/python3.10/site-packages/ipykernel/ipkernel.py\", line 449, in do_execute\n\n  File \"/opt/venv/lib/python3.10/site-packages/ipykernel/zmqshell.py\", line 549, in run_cell\n\n  File \"/opt/venv/lib/python3.10/site-packages/IPython/core/interactiveshell.py\", line 3075, in run_cell\n\n  File \"/opt/venv/lib/python3.10/site-packages/IPython/core/interactiveshell.py\", line 3130, in _run_cell\n\n  File \"/opt/venv/lib/python3.10/site-packages/IPython/core/async_helpers.py\", line 128, in _pseudo_sync_runner\n\n  File \"/opt/venv/lib/python3.10/site-packages/IPython/core/interactiveshell.py\", line 3334, in run_cell_async\n\n  File \"/opt/venv/lib/python3.10/site-packages/IPython/core/interactiveshell.py\", line 3517, in run_ast_nodes\n\n  File \"/opt/venv/lib/python3.10/site-packages/IPython/core/interactiveshell.py\", line 3577, in run_code\n\n  File \"/tmp/ipykernel_1410804/1782970772.py\", line 10, in <module>\n\n  File \"/data/Splice/SpliceTransformer/src/gene_centric_gencode_evaluator.py\", line 117, in generate_spliceai_predictions\n\n  File \"/opt/venv/lib/python3.10/site-packages/keras/src/utils/traceback_utils.py\", line 117, in error_handler\n\n  File \"/opt/venv/lib/python3.10/site-packages/keras/src/backend/tensorflow/trainer.py\", line 559, in predict\n\n  File \"/opt/venv/lib/python3.10/site-packages/keras/src/backend/tensorflow/trainer.py\", line 256, in one_step_on_data_distributed\n\nDNN library initialization failed. Look at the errors above for more details.\n\t [[{{node StatefulPartitionedCall}}]] [Op:__inference_one_step_on_data_distributed_10396]",
     "output_type": "error",
     "traceback": [
      "\u001b[0;31m---------------------------------------------------------------------------\u001b[0m",
      "\u001b[0;31mFailedPreconditionError\u001b[0m                   Traceback (most recent call last)",
      "Cell \u001b[0;32mIn[2], line 10\u001b[0m\n\u001b[1;32m      7\u001b[0m acceptor_truth, donor_truth \u001b[38;5;241m=\u001b[39m evaluator\u001b[38;5;241m.\u001b[39mparse_gencode()\n\u001b[1;32m      9\u001b[0m \u001b[38;5;66;03m# Generate predictions using SpliceAI\u001b[39;00m\n\u001b[0;32m---> 10\u001b[0m acceptor_pred, donor_pred \u001b[38;5;241m=\u001b[39m \u001b[43mevaluator\u001b[49m\u001b[38;5;241;43m.\u001b[39;49m\u001b[43mgenerate_spliceai_predictions\u001b[49m\u001b[43m(\u001b[49m\u001b[43macceptor_truth\u001b[49m\u001b[43m)\u001b[49m\n\u001b[1;32m     12\u001b[0m save(acceptor_pred, \u001b[38;5;124m\"\u001b[39m\u001b[38;5;124msplice_ai_acceptor_pred\u001b[39m\u001b[38;5;124m\"\u001b[39m)\n\u001b[1;32m     13\u001b[0m save(donor_pred, \u001b[38;5;124m\"\u001b[39m\u001b[38;5;124msplice_ai_donor_pred\u001b[39m\u001b[38;5;124m\"\u001b[39m)\n",
      "File \u001b[0;32m/data/Splice/SpliceTransformer/src/gene_centric_gencode_evaluator.py:117\u001b[0m, in \u001b[0;36mGencodeSpliceSiteEvaluator.generate_spliceai_predictions\u001b[0;34m(self, ground_truth)\u001b[0m\n\u001b[1;32m    115\u001b[0m predictions \u001b[38;5;241m=\u001b[39m []\n\u001b[1;32m    116\u001b[0m \u001b[38;5;28;01mfor\u001b[39;00m model \u001b[38;5;129;01min\u001b[39;00m models:\n\u001b[0;32m--> 117\u001b[0m     pred \u001b[38;5;241m=\u001b[39m \u001b[43mmodel\u001b[49m\u001b[38;5;241;43m.\u001b[39;49m\u001b[43mpredict\u001b[49m\u001b[43m(\u001b[49m\u001b[43mx\u001b[49m\u001b[43m,\u001b[49m\u001b[43m \u001b[49m\u001b[43mverbose\u001b[49m\u001b[38;5;241;43m=\u001b[39;49m\u001b[38;5;241;43m0\u001b[39;49m\u001b[43m)\u001b[49m\n\u001b[1;32m    118\u001b[0m     predictions\u001b[38;5;241m.\u001b[39mappend(pred)\n\u001b[1;32m    119\u001b[0m y \u001b[38;5;241m=\u001b[39m np\u001b[38;5;241m.\u001b[39mmean(predictions, axis\u001b[38;5;241m=\u001b[39m\u001b[38;5;241m0\u001b[39m)\n",
      "File \u001b[0;32m/opt/venv/lib/python3.10/site-packages/keras/src/utils/traceback_utils.py:122\u001b[0m, in \u001b[0;36mfilter_traceback.<locals>.error_handler\u001b[0;34m(*args, **kwargs)\u001b[0m\n\u001b[1;32m    119\u001b[0m     filtered_tb \u001b[38;5;241m=\u001b[39m _process_traceback_frames(e\u001b[38;5;241m.\u001b[39m__traceback__)\n\u001b[1;32m    120\u001b[0m     \u001b[38;5;66;03m# To get the full stack trace, call:\u001b[39;00m\n\u001b[1;32m    121\u001b[0m     \u001b[38;5;66;03m# `keras.config.disable_traceback_filtering()`\u001b[39;00m\n\u001b[0;32m--> 122\u001b[0m     \u001b[38;5;28;01mraise\u001b[39;00m e\u001b[38;5;241m.\u001b[39mwith_traceback(filtered_tb) \u001b[38;5;28;01mfrom\u001b[39;00m\u001b[38;5;250m \u001b[39m\u001b[38;5;28;01mNone\u001b[39;00m\n\u001b[1;32m    123\u001b[0m \u001b[38;5;28;01mfinally\u001b[39;00m:\n\u001b[1;32m    124\u001b[0m     \u001b[38;5;28;01mdel\u001b[39;00m filtered_tb\n",
      "File \u001b[0;32m/opt/venv/lib/python3.10/site-packages/tensorflow/python/eager/execute.py:53\u001b[0m, in \u001b[0;36mquick_execute\u001b[0;34m(op_name, num_outputs, inputs, attrs, ctx, name)\u001b[0m\n\u001b[1;32m     51\u001b[0m \u001b[38;5;28;01mtry\u001b[39;00m:\n\u001b[1;32m     52\u001b[0m   ctx\u001b[38;5;241m.\u001b[39mensure_initialized()\n\u001b[0;32m---> 53\u001b[0m   tensors \u001b[38;5;241m=\u001b[39m pywrap_tfe\u001b[38;5;241m.\u001b[39mTFE_Py_Execute(ctx\u001b[38;5;241m.\u001b[39m_handle, device_name, op_name,\n\u001b[1;32m     54\u001b[0m                                       inputs, attrs, num_outputs)\n\u001b[1;32m     55\u001b[0m \u001b[38;5;28;01mexcept\u001b[39;00m core\u001b[38;5;241m.\u001b[39m_NotOkStatusException \u001b[38;5;28;01mas\u001b[39;00m e:\n\u001b[1;32m     56\u001b[0m   \u001b[38;5;28;01mif\u001b[39;00m name \u001b[38;5;129;01mis\u001b[39;00m \u001b[38;5;129;01mnot\u001b[39;00m \u001b[38;5;28;01mNone\u001b[39;00m:\n",
      "\u001b[0;31mFailedPreconditionError\u001b[0m: Graph execution error:\n\nDetected at node StatefulPartitionedCall defined at (most recent call last):\n  File \"/usr/lib/python3.10/runpy.py\", line 196, in _run_module_as_main\n\n  File \"/usr/lib/python3.10/runpy.py\", line 86, in _run_code\n\n  File \"/opt/venv/lib/python3.10/site-packages/ipykernel_launcher.py\", line 18, in <module>\n\n  File \"/opt/venv/lib/python3.10/site-packages/traitlets/config/application.py\", line 1075, in launch_instance\n\n  File \"/opt/venv/lib/python3.10/site-packages/ipykernel/kernelapp.py\", line 739, in start\n\n  File \"/opt/venv/lib/python3.10/site-packages/tornado/platform/asyncio.py\", line 205, in start\n\n  File \"/usr/lib/python3.10/asyncio/base_events.py\", line 603, in run_forever\n\n  File \"/usr/lib/python3.10/asyncio/base_events.py\", line 1909, in _run_once\n\n  File \"/usr/lib/python3.10/asyncio/events.py\", line 80, in _run\n\n  File \"/opt/venv/lib/python3.10/site-packages/ipykernel/kernelbase.py\", line 545, in dispatch_queue\n\n  File \"/opt/venv/lib/python3.10/site-packages/ipykernel/kernelbase.py\", line 534, in process_one\n\n  File \"/opt/venv/lib/python3.10/site-packages/ipykernel/kernelbase.py\", line 437, in dispatch_shell\n\n  File \"/opt/venv/lib/python3.10/site-packages/ipykernel/ipkernel.py\", line 362, in execute_request\n\n  File \"/opt/venv/lib/python3.10/site-packages/ipykernel/kernelbase.py\", line 778, in execute_request\n\n  File \"/opt/venv/lib/python3.10/site-packages/ipykernel/ipkernel.py\", line 449, in do_execute\n\n  File \"/opt/venv/lib/python3.10/site-packages/ipykernel/zmqshell.py\", line 549, in run_cell\n\n  File \"/opt/venv/lib/python3.10/site-packages/IPython/core/interactiveshell.py\", line 3075, in run_cell\n\n  File \"/opt/venv/lib/python3.10/site-packages/IPython/core/interactiveshell.py\", line 3130, in _run_cell\n\n  File \"/opt/venv/lib/python3.10/site-packages/IPython/core/async_helpers.py\", line 128, in _pseudo_sync_runner\n\n  File \"/opt/venv/lib/python3.10/site-packages/IPython/core/interactiveshell.py\", line 3334, in run_cell_async\n\n  File \"/opt/venv/lib/python3.10/site-packages/IPython/core/interactiveshell.py\", line 3517, in run_ast_nodes\n\n  File \"/opt/venv/lib/python3.10/site-packages/IPython/core/interactiveshell.py\", line 3577, in run_code\n\n  File \"/tmp/ipykernel_1410804/1782970772.py\", line 10, in <module>\n\n  File \"/data/Splice/SpliceTransformer/src/gene_centric_gencode_evaluator.py\", line 117, in generate_spliceai_predictions\n\n  File \"/opt/venv/lib/python3.10/site-packages/keras/src/utils/traceback_utils.py\", line 117, in error_handler\n\n  File \"/opt/venv/lib/python3.10/site-packages/keras/src/backend/tensorflow/trainer.py\", line 559, in predict\n\n  File \"/opt/venv/lib/python3.10/site-packages/keras/src/backend/tensorflow/trainer.py\", line 256, in one_step_on_data_distributed\n\nDNN library initialization failed. Look at the errors above for more details.\n\t [[{{node StatefulPartitionedCall}}]] [Op:__inference_one_step_on_data_distributed_10396]"
     ]
    }
   ],
   "source": [
    "# Initialize evaluator\n",
    "evaluator = GencodeSpliceSiteEvaluator(\n",
    "    gencode_gtf=\"/data/Splice/data/gencode.v47.basic.annotation.gtf\",\n",
    "    fasta_file=\"/data/genomes/hg38/hg38.fa\"\n",
    ")\n",
    "# Generate ground truth from GENCODE\n",
    "acceptor_truth, donor_truth = evaluator.parse_gencode()\n",
    "\n",
    "# Generate predictions using SpliceAI\n",
    "acceptor_pred, donor_pred = evaluator.generate_predicitons(acceptor_truth)\n",
    "\n",
    "save(acceptor_pred, \"splicetransform_acceptor_pred\")\n",
    "save(donor_pred, \"splicetransform_donor_pred\")\n",
    "\n",
    "# # Load saved predictions \n",
    "# acceptor_pred, donor_pred = evaluator.load_predictions(\n",
    "#     \"splice_ai_acceptor_pred.pkl\",\n",
    "#     \"splice_ai_donor_pred.pkl\"\n",
    "# )\n",
    "\n",
    "# Get metrics including top-k accuracy\n",
    "acc_precision, acc_recall, acc_auprc, acc_topk = evaluator.calculate_metrics(\n",
    "    acceptor_truth, acceptor_pred\n",
    ")\n",
    "don_precision, don_recall, don_auprc, don_topk = evaluator.calculate_metrics(\n",
    "    donor_truth, donor_pred  \n",
    ")"
   ]
  },
  {
   "cell_type": "code",
   "execution_count": null,
   "id": "1eb1d6c9-63b4-4ac2-a6b6-15be37566602",
   "metadata": {
    "execution": {
     "iopub.status.busy": "2025-01-08T03:05:52.403061Z",
     "iopub.status.idle": "2025-01-08T03:05:52.403354Z",
     "shell.execute_reply": "2025-01-08T03:05:52.403250Z",
     "shell.execute_reply.started": "2025-01-08T03:05:52.403239Z"
    }
   },
   "outputs": [],
   "source": [
    "# Calculate mean metrics\n",
    "mean_auprc = (acc_auprc + don_auprc) / 2\n",
    "mean_topk = (acc_topk + don_topk) / 2\n",
    "\n",
    "# Plot precision-recall curves\n",
    "plt.figure(figsize=(10, 6))\n",
    "plt.plot(acc_recall, acc_precision, label=f'Acceptor (AUPRC={acc_auprc:.3f})')\n",
    "plt.plot(don_recall, don_precision, label=f'Donor (AUPRC={don_auprc:.3f})')\n",
    "plt.xlabel('Recall')\n",
    "plt.ylabel('Precision')\n",
    "plt.title(f'Precision-Recall Curves\\nMean AUPRC: {mean_auprc:.3f}, Mean Top-k: {mean_topk:.3f}')\n",
    "plt.legend()\n",
    "plt.grid(True)\n",
    "plt.savefig(\"auprc_topk_splicetransform.png\", dpi=300)\n",
    "plt.show()\n",
    "\n",
    "# Print results\n",
    "print(f\"Acceptor AUPRC: {acc_auprc:.4f}, Top-k: {acc_topk:.4f}\")\n",
    "print(f\"Donor AUPRC: {don_auprc:.4f}, Top-k: {don_topk:.4f}\")\n",
    "print(f\"Mean AUPRC: {mean_auprc:.4f}, Mean Top-k: {mean_topk:.4f}\")"
   ]
  },
  {
   "cell_type": "code",
   "execution_count": null,
   "id": "2580bde9-24f2-4088-9e35-94b097b83890",
   "metadata": {},
   "outputs": [],
   "source": []
  }
 ],
 "metadata": {
  "kernelspec": {
   "display_name": "Python 3 (ipykernel)",
   "language": "python",
   "name": "python3"
  },
  "language_info": {
   "codemirror_mode": {
    "name": "ipython",
    "version": 3
   },
   "file_extension": ".py",
   "mimetype": "text/x-python",
   "name": "python",
   "nbconvert_exporter": "python",
   "pygments_lexer": "ipython3",
   "version": "3.10.12"
  }
 },
 "nbformat": 4,
 "nbformat_minor": 5
}
