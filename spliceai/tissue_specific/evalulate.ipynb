{
 "cells": [
  {
   "cell_type": "code",
   "execution_count": 1,
   "metadata": {},
   "outputs": [
    {
     "name": "stderr",
     "output_type": "stream",
     "text": [
      "2025-02-27 13:28:17.038983: E external/local_xla/xla/stream_executor/cuda/cuda_fft.cc:477] Unable to register cuFFT factory: Attempting to register factory for plugin cuFFT when one has already been registered\n",
      "WARNING: All log messages before absl::InitializeLog() is called are written to STDERR\n",
      "E0000 00:00:1740680897.057512 3692803 cuda_dnn.cc:8310] Unable to register cuDNN factory: Attempting to register factory for plugin cuDNN when one has already been registered\n",
      "E0000 00:00:1740680897.063124 3692803 cuda_blas.cc:1418] Unable to register cuBLAS factory: Attempting to register factory for plugin cuBLAS when one has already been registered\n",
      "2025-02-27 13:28:17.083768: I tensorflow/core/platform/cpu_feature_guard.cc:210] This TensorFlow binary is optimized to use available CPU instructions in performance-critical operations.\n",
      "To enable the following instructions: AVX2 AVX512F FMA, in other operations, rebuild TensorFlow with the appropriate compiler flags.\n"
     ]
    }
   ],
   "source": [
    "import os\n",
    "\n",
    "os.chdir('/data/zusers/ramirezc/splice-benchmark/spliceai/tissue_specific')\n",
    "\n",
    "import pickle\n",
    "import numpy as np\n",
    "import pandas as pd\n",
    "import matplotlib.pyplot as plt\n",
    "from pyfaidx import Fasta\n",
    "from typing import Dict, Tuple, Set, Optional\n",
    "from consensus_evaluator import ConsensusSpliceSiteEvaluator"
   ]
  },
  {
   "cell_type": "code",
   "execution_count": 2,
   "metadata": {},
   "outputs": [],
   "source": [
    "# Initialize evaluator\n",
    "evaluator = ConsensusSpliceSiteEvaluator(\n",
    "    gencode_gtf=\"gencode.v29.primary_assembly.annotation_UCSC_names.gtf\",\n",
    "    consensus_fasta=\"GM12878/GM12878.fasta\"\n",
    ")"
   ]
  },
  {
   "cell_type": "code",
   "execution_count": 3,
   "metadata": {},
   "outputs": [
    {
     "name": "stdout",
     "output_type": "stream",
     "text": [
      "\n",
      "Transcript filtering summary:\n",
      "Total transcripts: 207507\n",
      "Expressed transcripts (TPM >= 2.0): 24678\n",
      "['ENST00000262193.6', 'ENST00000617569.1', 'ENST00000309033.4', 'ENST00000407022.7', 'ENST00000510191.5', 'ENST00000389142.9', 'ENST00000534280.5', 'ENST00000373247.6', 'ENST00000393256.7', 'ENST00000301454.8', 'ENST00000295006.5', 'ENST00000592388.1', 'ENST00000374206.3', 'ENST00000549748.2', 'ENST00000593287.5', 'ENST00000404876.1', 'ENST00000380430.5', 'ENST00000360981.8', 'ENST00000453324.5', 'ENST00000469100.5', 'ENST00000596582.1', 'ENST00000568314.1', 'ENST00000559679.1', 'ENST00000573949.1', 'ENST00000427997.5', 'ENST00000570907.5', 'ENST00000261842.9', 'ENST00000292823.6', 'ENST00000399959.7', 'ENST00000586084.1', 'ENST00000491807.5', 'ENST00000264057.6', 'ENST00000560458.5', 'ENST00000551805.1', 'ENST00000528545.1', 'ENST00000524931.1', 'ENST00000355552.7', 'ENST00000611969.4', 'ENST00000560318.1', 'ENST00000299601.9', 'ENST00000520751.1', 'ENST00000416769.2', 'ENST00000559931.5', 'ENST00000367993.7', 'ENST00000380258.6', 'ENST00000356654.8', 'ENST00000467789.5', 'ENST00000423477.2', 'ENST00000422839.5', 'ENST00000424598.5']\n"
     ]
    }
   ],
   "source": [
    "# Filter for expressed genes\n",
    "expressed_transcripts = evaluator.filter_expressed_transcripts(\n",
    "    quant_tsv=\"GM12878/ENCFF190NFH.tsv\",\n",
    "    min_tpm=2.0\n",
    ")\n",
    "\n",
    "print(list(expressed_transcripts)[:50])"
   ]
  },
  {
   "cell_type": "code",
   "execution_count": 4,
   "metadata": {},
   "outputs": [
    {
     "name": "stderr",
     "output_type": "stream",
     "text": [
      "INFO:root:Extracted GTF attributes: ['gene_id', 'transcript_id', 'gene_type', 'gene_name', 'transcript_type', 'transcript_name', 'exon_number', 'exon_id', 'level', 'transcript_support_level', 'tag', 'havana_gene', 'havana_transcript', 'ont', 'protein_id', 'ccdsid']\n"
     ]
    }
   ],
   "source": [
    "# Load or generate and save ground truth\n",
    "ground_truth_acceptor, ground_truth_donor = evaluator.get_ground_truth(\n",
    "    expressed_transcripts=expressed_transcripts\n",
    ")"
   ]
  },
  {
   "cell_type": "code",
   "execution_count": 5,
   "metadata": {},
   "outputs": [],
   "source": [
    "# # Generate predictions with serialization\n",
    "# pred_acceptor, pred_donor = evaluator.generate_spliceai_predictions(\n",
    "#     predictions_file=\"GM12878/predictions.pkl\"\n",
    "# )"
   ]
  },
  {
   "cell_type": "code",
   "execution_count": 6,
   "metadata": {},
   "outputs": [],
   "source": [
    "pred_acceptor, pred_donor = evaluator.load_serialized_data('GM12878/predictions.pkl')"
   ]
  },
  {
   "cell_type": "code",
   "execution_count": 7,
   "metadata": {},
   "outputs": [
    {
     "name": "stdout",
     "output_type": "stream",
     "text": [
      "\n",
      "Prediction verification:\n",
      "Chromosome chr1: 26902294 non-zero predictions, 8252 values ≥ 0.9\n",
      "Value distribution: [(1.2950841571032767e-12, 1), (1.930169565844686e-12, 1), (2.2179699483287907e-12, 1), (2.473478886988456e-12, 1), (2.802970095611146e-12, 1)]\n",
      "Chromosome chr3: 15355286 non-zero predictions, 4404 values ≥ 0.9\n",
      "Value distribution: [(2.7428688660624534e-12, 1), (2.958377900291742e-12, 1), (3.171671909482643e-12, 1), (3.190032873273685e-12, 1), (3.2347787642938997e-12, 1)]\n",
      "Chromosome chr5: 13133419 non-zero predictions, 3565 values ≥ 0.9\n",
      "Value distribution: [(2.5624376752408917e-12, 1), (3.0842294863886455e-12, 1), (4.186151425500384e-12, 1), (4.304632605228731e-12, 1), (4.402924205781922e-12, 1)]\n",
      "Chromosome chr7: 13092131 non-zero predictions, 3539 values ≥ 0.9\n",
      "Value distribution: [(2.9880347328370416e-12, 1), (3.453927031535353e-12, 1), (3.662643105473151e-12, 1), (4.0357795230705484e-12, 1), (4.20637569914506e-12, 1)]\n",
      "Chromosome chr9: 10528053 non-zero predictions, 3169 values ≥ 0.9\n",
      "Value distribution: [(1.790716663493952e-12, 1), (1.8495704100229826e-12, 1), (2.58514433817969e-12, 1), (2.877676395784956e-12, 1), (3.2606083631703253e-12, 1)]\n"
     ]
    }
   ],
   "source": [
    "# Add this code to check predictions\n",
    "print(\"\\nPrediction verification:\")\n",
    "for chrom in evaluator.target_chromosomes:\n",
    "    nonzero_count = np.count_nonzero(pred_acceptor[chrom])\n",
    "    high_value_count = np.sum(pred_acceptor[chrom] >= 0.9)\n",
    "    print(f\"Chromosome {chrom}: {nonzero_count} non-zero predictions, {high_value_count} values ≥ 0.9\")\n",
    "    if nonzero_count > 0:\n",
    "        # Check distribution of values\n",
    "        values, counts = np.unique(pred_acceptor[chrom][pred_acceptor[chrom] > 0], return_counts=True)\n",
    "        print(f\"Value distribution: {list(zip(values[:5], counts[:5]))}\")"
   ]
  },
  {
   "cell_type": "code",
   "execution_count": 8,
   "metadata": {},
   "outputs": [
    {
     "name": "stdout",
     "output_type": "stream",
     "text": [
      "Calculating AUPRC using non-zero prediction regions...\n",
      "Chromosome chr1: 26902294 positions evaluated\n",
      "Chromosome chr3: 15355286 positions evaluated\n",
      "Chromosome chr5: 13133419 positions evaluated\n",
      "Chromosome chr7: 13092131 positions evaluated\n",
      "Chromosome chr9: 10528053 positions evaluated\n",
      "Calculating AUPRC using non-zero prediction regions...\n",
      "Chromosome chr1: 26902294 positions evaluated\n",
      "Chromosome chr3: 15355286 positions evaluated\n",
      "Chromosome chr5: 13133419 positions evaluated\n",
      "Chromosome chr7: 13092131 positions evaluated\n",
      "Chromosome chr9: 10528053 positions evaluated\n"
     ]
    }
   ],
   "source": [
    "# Calculate metrics\n",
    "acceptor_precision, acceptor_recall, acceptor_auprc, acceptor_top_k = evaluator.calculate_metrics(\n",
    "    ground_truth_acceptor, \n",
    "    pred_acceptor\n",
    ")\n",
    "donor_precision, donor_recall, donor_auprc, donor_top_k = evaluator.calculate_metrics(\n",
    "    ground_truth_donor,\n",
    "    pred_donor\n",
    ")"
   ]
  },
  {
   "cell_type": "code",
   "execution_count": 9,
   "metadata": {},
   "outputs": [
    {
     "name": "stderr",
     "output_type": "stream",
     "text": [
      "/tmp/ipykernel_3692803/780320661.py:14: UserWarning: Creating legend with loc=\"best\" can be slow with large amounts of data.\n",
      "  plt.savefig(\"GM12878/auprc_topk_spliceai.png\", dpi=300)\n"
     ]
    },
    {
     "name": "stdout",
     "output_type": "stream",
     "text": [
      "Acceptor AUPRC: 0.9546, Top-k: 0.9083\n",
      "Donor AUPRC: 0.9532, Top-k: 0.9046\n",
      "Mean AUPRC: 0.9539, Mean Top-k: 0.9065\n"
     ]
    },
    {
     "name": "stderr",
     "output_type": "stream",
     "text": [
      "/usr/local/lib/python3.10/dist-packages/IPython/core/pylabtools.py:170: UserWarning: Creating legend with loc=\"best\" can be slow with large amounts of data.\n",
      "  fig.canvas.print_figure(bytes_io, **kw)\n"
     ]
    },
    {
     "data": {
      "image/png": "[encoded data removed]",
      "text/plain": [
       "<Figure size 1000x600 with 1 Axes>"
      ]
     },
     "metadata": {},
     "output_type": "display_data"
    }
   ],
   "source": [
    "# Calculate mean metrics\n",
    "mean_auprc = (acceptor_auprc + donor_auprc) / 2\n",
    "mean_top_k = (acceptor_top_k + donor_top_k) / 2\n",
    "\n",
    "# Plot precision-recall curves\n",
    "plt.figure(figsize=(10, 6))\n",
    "plt.plot(acceptor_recall, acceptor_precision, label=f'Acceptor (AUPRC={acceptor_auprc:.3f})')\n",
    "plt.plot(donor_recall, donor_precision, label=f'Donor (AUPRC={donor_auprc:.3f})')\n",
    "plt.xlabel('Recall')\n",
    "plt.ylabel('Precision')\n",
    "plt.title(f'Precision-Recall Curves\\nMean AUPRC: {mean_auprc:.3f}, Mean Top-k: {mean_top_k:.3f}')\n",
    "plt.legend()\n",
    "plt.grid(True)\n",
    "plt.savefig(\"GM12878/auprc_topk_spliceai.png\", dpi=300)\n",
    "\n",
    "# Print results\n",
    "print(f\"Acceptor AUPRC: {acceptor_auprc:.4f}, Top-k: {acceptor_top_k:.4f}\")\n",
    "print(f\"Donor AUPRC: {donor_auprc:.4f}, Top-k: {donor_top_k:.4f}\")\n",
    "print(f\"Mean AUPRC: {mean_auprc:.4f}, Mean Top-k: {mean_top_k:.4f}\")"
   ]
  },
  {
   "cell_type": "code",
   "execution_count": 10,
   "metadata": {},
   "outputs": [
    {
     "name": "stdout",
     "output_type": "stream",
     "text": [
      "Number of ground truth splice sites: 18\n",
      "Number of predicted splice sites: 16\n",
      "Number of matching positions: 16\n"
     ]
    }
   ],
   "source": [
    "# Get the indices for the region of interest \n",
    "gene_gt = ground_truth_acceptor['chr1'][944203:958458]\n",
    "gene_pred = pred_acceptor['chr1'][944203:958458]\n",
    "\n",
    "# Get absolute indices where values are positive\n",
    "gt_positive_indices = {idx + 944203 for idx in np.where(gene_gt == 1)[0]}\n",
    "pred_positive_indices = {idx + 944203 for idx in np.where(gene_pred >= 0.9)[0]}\n",
    "\n",
    "# Write to file\n",
    "with open('GM12878/acceptor_splice_indices.txt', 'w') as f:\n",
    "    f.write(\"Ground_Truth_Position\\tPrediction_Position\\n\")  # Header\n",
    "    \n",
    "    # Write all positions, marking matches\n",
    "    all_positions = sorted(gt_positive_indices | pred_positive_indices)\n",
    "    for pos in all_positions:\n",
    "        gt_mark = str(pos) if pos in gt_positive_indices else \"-\"\n",
    "        pred_mark = str(pos) if pos in pred_positive_indices else \"-\"\n",
    "        f.write(f\"{gt_mark}\\t{pred_mark}\\n\")\n",
    "\n",
    "# Print summary statistics\n",
    "print(f\"Number of ground truth splice sites: {len(gt_positive_indices)}\")\n",
    "print(f\"Number of predicted splice sites: {len(pred_positive_indices)}\")\n",
    "print(f\"Number of matching positions: {len(gt_positive_indices & pred_positive_indices)}\")"
   ]
  },
  {
   "cell_type": "code",
   "execution_count": 11,
   "metadata": {},
   "outputs": [
    {
     "name": "stdout",
     "output_type": "stream",
     "text": [
      "Number of ground truth splice sites: 17\n",
      "Number of predicted splice sites: 17\n",
      "Number of matching positions: 17\n"
     ]
    }
   ],
   "source": [
    "# Get the indices for the region of interest \n",
    "gene_gt = ground_truth_donor['chr1'][944203:958458]\n",
    "gene_pred = pred_donor['chr1'][944203:958458]\n",
    "\n",
    "# Get absolute indices where values are positive\n",
    "gt_positive_indices = {idx + 944203 for idx in np.where(gene_gt == 1)[0]}\n",
    "pred_positive_indices = {idx + 944203 for idx in np.where(gene_pred >= 0.9)[0]}\n",
    "\n",
    "# Write to file\n",
    "with open('GM12878/donor_splice_indices.txt', 'w') as f:\n",
    "    f.write(\"Ground_Truth_Position\\tPrediction_Position\\n\")  # Header\n",
    "    \n",
    "    # Write all positions, marking matches\n",
    "    all_positions = sorted(gt_positive_indices | pred_positive_indices)\n",
    "    for pos in all_positions:\n",
    "        gt_mark = str(pos) if pos in gt_positive_indices else \"-\"\n",
    "        pred_mark = str(pos) if pos in pred_positive_indices else \"-\"\n",
    "        f.write(f\"{gt_mark}\\t{pred_mark}\\n\")\n",
    "\n",
    "# Print summary statistics\n",
    "print(f\"Number of ground truth splice sites: {len(gt_positive_indices)}\")\n",
    "print(f\"Number of predicted splice sites: {len(pred_positive_indices)}\")\n",
    "print(f\"Number of matching positions: {len(gt_positive_indices & pred_positive_indices)}\")"
   ]
  },
  {
   "cell_type": "code",
   "execution_count": null,
   "metadata": {},
   "outputs": [],
   "source": []
  }
 ],
 "metadata": {
  "kernelspec": {
   "display_name": "Python 3 (ipykernel)",
   "language": "python",
   "name": "python3"
  },
  "language_info": {
   "codemirror_mode": {
    "name": "ipython",
    "version": 3
   },
   "file_extension": ".py",
   "mimetype": "text/x-python",
   "name": "python",
   "nbconvert_exporter": "python",
   "pygments_lexer": "ipython3",
   "version": "3.10.12"
  }
 },
 "nbformat": 4,
 "nbformat_minor": 2
}
