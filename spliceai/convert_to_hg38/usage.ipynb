{
 "cells": [
  {
   "cell_type": "code",
   "execution_count": 4,
   "metadata": {},
   "outputs": [],
   "source": [
    "import os\n",
    "os.chdir(\"/pi/zhiping.weng-umw/data/ramirezc/splice-benchmark/spliceai\")\n",
    "from junctions_to_hg38 import lift_coordinates"
   ]
  },
  {
   "cell_type": "code",
   "execution_count": 6,
   "metadata": {},
   "outputs": [
    {
     "name": "stdout",
     "output_type": "stream",
     "text": [
      "\n",
      "Processed 1652 entries\n",
      "Successfully converted 1639 entries\n",
      "Failed to convert 13 entries\n",
      "\n",
      "Warning: Some conversions failed:\n",
      "C1orf158: Failed to convert exon coordinates\n",
      "PADI6: Failed to convert exon coordinates\n",
      "MRPS21: Failed to convert exon coordinates\n",
      "SYN2: Failed to convert exon coordinates\n",
      "PPP1R2: Failed to convert exon coordinates\n",
      "TRIL: Failed to convert exon coordinates\n",
      "SPDYE6: Failed to convert exon coordinates\n",
      "KCP: Failed to convert exon coordinates\n",
      "SSPO: Failed to convert exon coordinates\n",
      "ABO: Failed to convert exon coordinates\n",
      "SURF6: Failed to convert exon coordinates\n",
      "MED22: Failed to convert exon coordinates\n",
      "STKLD1: Failed to convert exon coordinates\n"
     ]
    }
   ],
   "source": [
    "lift_coordinates('gencode_test.tsv', 'gencode_test_lifted.tsv')"
   ]
  },
  {
   "cell_type": "code",
   "execution_count": null,
   "metadata": {},
   "outputs": [],
   "source": []
  }
 ],
 "metadata": {
  "kernelspec": {
   "display_name": "Python 3 (ipykernel)",
   "language": "python",
   "name": "python3"
  }
 },
 "nbformat": 4,
 "nbformat_minor": 2
}
