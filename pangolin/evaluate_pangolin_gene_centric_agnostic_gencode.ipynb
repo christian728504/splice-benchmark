{
 "cells": [
  {
   "cell_type": "code",
   "execution_count": 1,
   "id": "574f5392",
   "metadata": {},
   "outputs": [],
   "source": [
    "import os\n",
    "os.chdir('/pi/zhiping.weng-umw/data/ramirezc/Splice/Pangolin/')\n",
    "\n",
    "import matplotlib.pyplot as plt\n",
    "import numpy as np\n",
    "from pickle_serialize import save, load\n",
    "from gene_centric_acceptor_donor_agnostic_gencode_evaluator import GencodeSpliceSiteEvaluator "
   ]
  },
  {
   "cell_type": "code",
   "execution_count": 2,
   "id": "54619c38",
   "metadata": {},
   "outputs": [
    {
     "name": "stdout",
     "output_type": "stream",
     "text": [
      "Initializing evaluator...\n",
      "Parsing GENCODE GTF...\n"
     ]
    },
    {
     "name": "stderr",
     "output_type": "stream",
     "text": [
      "INFO:root:Extracted GTF attributes: ['gene_id', 'transcript_id', 'gene_type', 'gene_name', 'transcript_type', 'transcript_name', 'level', 'tag', 'exon_number', 'exon_id', 'transcript_support_level', 'hgnc_id', 'ont', 'havana_gene', 'havana_transcript', 'protein_id', 'ccdsid']\n"
     ]
    },
    {
     "name": "stdout",
     "output_type": "stream",
     "text": [
      "(2099, 25)\n",
      "     seqname  source     feature   start     end  score strand  frame  \\\n",
      "151     chr1  HAVANA  transcript   65419   71585    NaN      +      0   \n",
      "1023    chr1  HAVANA  transcript  923923  944574    NaN      +      0   \n",
      "1038    chr1  HAVANA  transcript  923923  944574    NaN      +      0   \n",
      "1053    chr1  HAVANA  transcript  925731  944574    NaN      +      0   \n",
      "1088    chr1  HAVANA  transcript  960584  965719    NaN      +      0   \n",
      "\n",
      "                 gene_id      transcript_id  ...  \\\n",
      "151    ENSG00000186092.7  ENST00000641515.2  ...   \n",
      "1023  ENSG00000187634.13  ENST00000616016.5  ...   \n",
      "1038  ENSG00000187634.13  ENST00000618323.5  ...   \n",
      "1053  ENSG00000187634.13  ENST00000342066.8  ...   \n",
      "1088  ENSG00000187961.15  ENST00000338591.8  ...   \n",
      "\n",
      "                                                    tag exon_number exon_id  \\\n",
      "151   RNA_Seq_supported_partial,basic,Ensembl_canoni...                       \n",
      "1023  CAGE_supported_TSS,RNA_Seq_supported_partial,b...                       \n",
      "1038  CAGE_supported_TSS,basic,GENCODE_Primary,appri...                       \n",
      "1053                         basic,GENCODE_Primary,CCDS                       \n",
      "1088  basic,Ensembl_canonical,GENCODE_Primary,MANE_S...                       \n",
      "\n",
      "     transcript_support_level     hgnc_id ont            havana_gene  \\\n",
      "151                            HGNC:14825       OTTHUMG00000001094.4   \n",
      "1023                        5  HGNC:28706      OTTHUMG00000040719.11   \n",
      "1038                        5  HGNC:28706      OTTHUMG00000040719.11   \n",
      "1053                        5  HGNC:28706      OTTHUMG00000040719.11   \n",
      "1088                        1  HGNC:24023       OTTHUMG00000040721.8   \n",
      "\n",
      "         havana_transcript         protein_id       ccdsid  \n",
      "151   OTTHUMT00000003223.4  ENSP00000493376.2  CCDS30547.2  \n",
      "1023  OTTHUMT00000316521.3  ENSP00000478421.2  CCDS90834.1  \n",
      "1038                        ENSP00000480678.2  CCDS90833.1  \n",
      "1053  OTTHUMT00000276866.3  ENSP00000342313.3      CCDS2.2  \n",
      "1088  OTTHUMT00000097875.4  ENSP00000343930.3  CCDS30550.1  \n",
      "\n",
      "[5 rows x 25 columns]\n",
      "Median transcript length: 12911.0\n"
     ]
    }
   ],
   "source": [
    "print(\"Initializing evaluator...\")\n",
    "\n",
    "# Initialize evaluator\n",
    "evaluator = GencodeSpliceSiteEvaluator(\n",
    "    gencode_gtf=\"/data/Splice/data/gencode.v47.basic.annotation.gtf\",\n",
    "    fasta_file=\"/data/genomes/hg38/hg38.fa\"\n",
    ")\n",
    "\n",
    "print(\"Parsing GENCODE GTF...\")\n",
    "\n",
    "# Get ground truth\n",
    "ground_truth = evaluator.parse_gencode()\n",
    "\n",
    "# print(\"Generating predictions...\")\n",
    "\n",
    "# # Generate predictions\n",
    "# pangolin_predictions = evaluator.generate_predictions(ground_truth)\n",
    "\n",
    "# print(\"Serializing predictions...\")\n",
    "\n",
    "# # Save predictions\n",
    "# save(pangolin_predictions, \"pangolin_splice_predictions\")\n",
    "\n",
    "# print(\"Loading predictions...\")\n",
    "\n",
    "# # Load and trim predictions to gene regions\n",
    "# trimmed_pangolin_predictions = evaluator.load_predictions(\"pangolin_splice_predictions.pkl\")\n",
    "\n",
    "# print(\"Calculating metrics...\")\n",
    "\n",
    "# # Calculate metrics\n",
    "# precision, recall, auprc, top_k = evaluator.calculate_metrics(ground_truth, trimmed_pangolin_predictions)"
   ]
  },
  {
   "cell_type": "code",
   "execution_count": null,
   "id": "8f254f57",
   "metadata": {},
   "outputs": [],
   "source": [
    "# Plot precision-recall curves\n",
    "plt.figure(figsize=(10, 6))\n",
    "plt.plot(recall, precision)\n",
    "plt.xlabel('Recall')\n",
    "plt.ylabel('Precision')\n",
    "plt.title(f'Precision-Recall Curves\\nAUPRC: {auprc:.3f}, Top-k: {top_k:.3f}')\n",
    "plt.legend()\n",
    "plt.grid(True)\n",
    "plt.savefig(\"auprc_topk_pangolin.png\", dpi=300)\n",
    "plt.show()"
   ]
  },
  {
   "cell_type": "code",
   "execution_count": null,
   "id": "66469295",
   "metadata": {},
   "outputs": [],
   "source": [
    "truth_sites = ground_truth['chr1'][962470-20:962470+20]\n",
    "pred_sites = trimmed_pangolin_predictions['chr1'][962470-20:962470+20]\n",
    "\n",
    "print(truth_sites)\n",
    "print(pred_sites)"
   ]
  },
  {
   "cell_type": "code",
   "execution_count": null,
   "id": "16c8a83f",
   "metadata": {},
   "outputs": [],
   "source": []
  },
  {
   "cell_type": "code",
   "execution_count": null,
   "id": "7c913ae1",
   "metadata": {},
   "outputs": [],
   "source": []
  }
 ],
 "metadata": {
  "kernelspec": {
   "display_name": "Python 3 (ipykernel)",
   "language": "python",
   "name": "python3"
  }
 },
 "nbformat": 4,
 "nbformat_minor": 5
}
