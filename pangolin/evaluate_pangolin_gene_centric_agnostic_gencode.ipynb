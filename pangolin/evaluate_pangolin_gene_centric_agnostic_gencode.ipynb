{
 "cells": [
  {
   "cell_type": "code",
   "execution_count": 1,
   "id": "574f5392",
   "metadata": {},
   "outputs": [],
   "source": [
    "import matplotlib.pyplot as plt\n",
    "import numpy as np\n",
    "from pickle_serialize import save, load\n",
    "import os\n",
    "from gene_centric_acceptor_donor_agnostic_gencode_evaluator import GencodeSpliceSiteEvaluator "
   ]
  },
  {
   "cell_type": "code",
   "execution_count": null,
   "id": "54619c38",
   "metadata": {},
   "outputs": [],
   "source": [
    "print(\"Initializing evaluator...\")\n",
    "\n",
    "# Initialize evaluator\n",
    "evaluator = GencodeSpliceSiteEvaluator(\n",
    "    gencode_gtf = os.path.join(\"..\", \"data\", \"gencode.v47.basic.annotation.gtf\"),\n",
    "    fasta_file = os.path.join(\"..\", \"data\", \"GRCh38.primary_assembly.genome.fa\")\n",
    ")\n",
    "\n",
    "print(\"Parsing GENCODE GTF...\")\n",
    "\n",
    "# Get ground truth\n",
    "ground_truth = evaluator.parse_gencode()\n",
    "\n",
    "print(\"Generating predictions...\")\n",
    "\n",
    "# Generate predictions\n",
    "pangolin_predictions = evaluator.generate_predictions(ground_truth)\n",
    "\n",
    "print(\"Serializing predictions...\")\n",
    "\n",
    "# Save predictions\n",
    "save(pangolin_predictions, \"pangolin_splice_predictions\")\n",
    "\n",
    "print(\"Loading predictions...\")\n",
    "\n",
    "# Load and trim predictions to gene regions\n",
    "trimmed_pangolin_predictions = evaluator.load_predictions(\"results/pangolin_splice_predictions.pkl\")\n",
    "\n",
    "print(\"Calculating metrics...\")\n",
    "\n",
    "# Calculate metrics\n",
    "precision, recall, auprc, top_k = evaluator.calculate_metrics(ground_truth, trimmed_pangolin_predictions)"
   ]
  },
  {
   "cell_type": "code",
   "execution_count": null,
   "id": "8f254f57",
   "metadata": {},
   "outputs": [],
   "source": [
    "# Plot precision-recall curves{\n",
    "  \"name\": \"ROCm Bioinformatics Environment\",\n",
    "  \"image\": \"your/remote-image:tag\",  // Replace with your actual image\n",
    "  \"runArgs\": [\n",
    "    \"--network=host\",\n",
    "    \"--device=/dev/kfd\",\n",
    "    \"--device=/dev/dri\",\n",
    "    \"--ipc=host\",\n",
    "    \"--shm-size=16G\",\n",
    "    \"--group-add=video\",\n",
    "    \"--cap-add=SYS_PTRACE\",\n",
    "    \"--security-opt=seccomp=unconfined\"\n",
    "  ],\n",
    "  \n",
    "  \"customizations\": {\n",
    "    \"vscode\": {\n",
    "      \"extensions\": \"${localExtensions}\"\n",
    "    }\n",
    "  }\n",
    "}\n",
    "plt.figure(figsize=(10, 6))\n",
    "plt.plot(recall, precision)\n",
    "plt.xlabel('Recall')\n",
    "plt.ylabel('Precision')\n",
    "plt.title(f'Precision-Recall Curves\\nAUPRC: {auprc:.3f}, Top-k: {top_k:.3f}')\n",
    "plt.legend()\n",
    "plt.grid(True)\n",
    "plt.savefig(\"results/auprc_topk_pangolin.png\", dpi=300)\n",
    "plt.show()"
   ]
  },
  {
   "cell_type": "code",
   "execution_count": null,
   "id": "66469295",
   "metadata": {},
   "outputs": [],
   "source": [
    "# truth_sites = ground_truth['chr1'][962470-20:962470+20]\n",
    "# pred_sites = trimmed_pangolin_predictions['chr1'][962470-20:962470+20]\n",
    "\n",
    "# print(truth_sites)\n",
    "# print(pred_sites)"
   ]
  },
  {
   "cell_type": "code",
   "execution_count": null,
   "id": "16c8a83f",
   "metadata": {},
   "outputs": [],
   "source": []
  },
  {
   "cell_type": "code",
   "execution_count": null,
   "id": "7c913ae1",
   "metadata": {},
   "outputs": [],
   "source": []
  }
 ],
 "metadata": {
  "kernelspec": {
   "display_name": "Python 3",
   "language": "python",
   "name": "python3"
  },
  "language_info": {
   "codemirror_mode": {
    "name": "ipython",
    "version": 3
   },
   "file_extension": ".py",
   "mimetype": "text/x-python",
   "name": "python",
   "nbconvert_exporter": "python",
   "pygments_lexer": "ipython3",
   "version": "3.10.12"
  }
 },
 "nbformat": 4,
 "nbformat_minor": 5
}
