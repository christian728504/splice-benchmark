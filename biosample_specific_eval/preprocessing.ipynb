{
 "cells": [
  {
   "cell_type": "code",
   "execution_count": 1,
   "metadata": {},
   "outputs": [],
   "source": [
    "import os\n",
    "os.chdir('/pi/zhiping.weng-umw/data/ramirezc/splice-benchmark/biosample_specific_eval')"
   ]
  },
  {
   "cell_type": "code",
   "execution_count": null,
   "metadata": {},
   "outputs": [],
   "source": [
    "# https://www.encodeproject.org/experiments/ENCSR368UNC/\n",
    "\n",
    "!wget https://www.encodeproject.org/files/ENCFF675MLD/@@download/ENCFF675MLD.bam"
   ]
  },
  {
   "cell_type": "code",
   "execution_count": null,
   "metadata": {},
   "outputs": [],
   "source": [
    "!ls\n",
    "!samtools sort -@ 4 -o ENCFF675MLD.sorted.bam ENCFF675MLD.bam\n",
    "!samtools index -@ 4 ENCFF675MLD.sorted.bam"
   ]
  },
  {
   "cell_type": "code",
   "execution_count": null,
   "metadata": {},
   "outputs": [],
   "source": [
    "!regtools junctions extract -s RF -o ENCFF675MLD.junctions.bed ENCFF675MLD.sorted.bam"
   ]
  },
  {
   "cell_type": "code",
   "execution_count": null,
   "metadata": {},
   "outputs": [],
   "source": [
    "from counts_to_cpm import append_cpm_to_bed\n",
    "\n",
    "append_cpm_to_bed('ENCFF675MLD.junctions.bed')"
   ]
  },
  {
   "cell_type": "code",
   "execution_count": 68,
   "metadata": {},
   "outputs": [
    {
     "name": "stdout",
     "output_type": "stream",
     "text": [
      "   chr1  14815   14996  JUNC00000001  8  ?  14815.1  14996.1  255,0,0  2  \\\n",
      "0  chr1  15006   15823  JUNC00000002  9  ?    15006    15823  255,0,0  2   \n",
      "1  chr1  15030  186324  JUNC00000011  1  ?    15030   186324  255,0,0  2   \n",
      "2  chr1  15916   16617  JUNC00000003  7  ?    15916    16617  255,0,0  2   \n",
      "3  chr1  16716   16885  JUNC00000004  5  ?    16716    16885  255,0,0  2   \n",
      "4  chr1  17038   17263  JUNC00000005  7  ?    17038    17263  255,0,0  2   \n",
      "\n",
      "   14,27     0,154  33.157811  \n",
      "0  32,28     0,789   8.162062  \n",
      "1    8,8  0,171286   0.007786  \n",
      "2  31,11     0,690   7.610162  \n",
      "3  49,32     0,137  23.674808  \n",
      "4  17,31     0,194  23.709882  \n",
      "              14815         14996             8       14815.1       14996.1  \\\n",
      "count  4.900200e+04  4.900200e+04  49002.000000  4.900200e+04  4.900200e+04   \n",
      "mean   6.917976e+07  6.918370e+07     15.021142  6.917976e+07  6.918370e+07   \n",
      "std    5.484722e+07  5.484739e+07     64.599925  5.484722e+07  5.484739e+07   \n",
      "min    4.080000e+02  5.510000e+02      1.000000  4.080000e+02  5.510000e+02   \n",
      "25%    2.887245e+07  2.887271e+07      2.000000  2.887245e+07  2.887271e+07   \n",
      "50%    5.318584e+07  5.318641e+07      4.000000  5.318584e+07  5.318641e+07   \n",
      "75%    1.023675e+08  1.023686e+08     10.000000  1.023675e+08  1.023686e+08   \n",
      "max    2.488456e+08  2.488471e+08   3607.000000  2.488456e+08  2.488471e+08   \n",
      "\n",
      "             2     33.157811  \n",
      "count  49002.0  49002.000000  \n",
      "mean       2.0     20.406654  \n",
      "std        0.0    107.105374  \n",
      "min        2.0      0.003298  \n",
      "25%        2.0      0.970896  \n",
      "50%        2.0      3.445861  \n",
      "75%        2.0     12.387129  \n",
      "max        2.0   5252.277694  \n",
      "49002\n"
     ]
    }
   ],
   "source": [
    "import matplotlib.pyplot as plt\n",
    "import pandas as pd\n",
    "import numpy as np\n",
    "\n",
    "junctions = pd.read_csv('ENCFF675MLD.junctions_with_cpm.bed', sep='\\t')\n",
    "print(junctions.head())\n",
    "print(junctions.describe())\n",
    "print(junctions.shape[0])"
   ]
  },
  {
   "cell_type": "code",
   "execution_count": 75,
   "metadata": {},
   "outputs": [
    {
     "data": {
      "image/png": "[encoded data removed]",
      "text/plain": [
       "<Figure size 640x480 with 1 Axes>"
      ]
     },
     "metadata": {},
     "output_type": "display_data"
    },
    {
     "name": "stdout",
     "output_type": "stream",
     "text": [
      "CPM >= 0.1: 47476 junctions (96.9%)\n",
      "CPM >= 0.5: 41736 junctions (85.2%)\n",
      "CPM >= 1: 36504 junctions (74.5%)\n",
      "CPM >= 2: 29994 junctions (61.2%)\n",
      "CPM >= 5: 20907 junctions (42.7%)\n",
      "CPM >= 10: 14241 junctions (29.1%)\n"
     ]
    }
   ],
   "source": [
    "# Using log2 transform\n",
    "log2_cpm = np.log2(junctions.iloc[:,-1] + 10e-6)  # add 1 to handle zeros\n",
    "\n",
    "plt.hist(log2_cpm, bins=100)\n",
    "plt.xlabel('log10 CPM')\n",
    "plt.ylabel('Count')\n",
    "plt.title('Junction CPM Distribution (log2 transformed)')\n",
    "plt.show()\n",
    "\n",
    "# Print number of junctions above different thresholds\n",
    "thresholds = [0.1, 0.5, 1, 2, 5, 10]\n",
    "for t in thresholds:\n",
    "    n_kept = sum(junctions.iloc[:, -1] >= t)\n",
    "    pct_kept = (n_kept / len(junctions)) * 100\n",
    "    print(f\"CPM >= {t}: {n_kept} junctions ({pct_kept:.1f}%)\")"
   ]
  },
  {
   "cell_type": "code",
   "execution_count": null,
   "metadata": {},
   "outputs": [],
   "source": []
  },
  {
   "cell_type": "code",
   "execution_count": null,
   "metadata": {},
   "outputs": [],
   "source": []
  }
 ],
 "metadata": {
  "kernelspec": {
   "display_name": "Python 3 (ipykernel)",
   "language": "python",
   "name": "python3"
  }
 },
 "nbformat": 4,
 "nbformat_minor": 2
}
